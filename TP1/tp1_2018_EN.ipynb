{
 "cells": [
  {
   "cell_type": "markdown",
   "metadata": {
    "colab_type": "text",
    "id": "7cRcaduOsoAJ"
   },
   "source": [
    "# INF 8215 - Intelligence artif.: méthodes et algorithmes \n",
    "## Fall 2018 - TP1 - Research Methods \n",
    "### Team Components\n",
    "    - Boucenna Manal Maroua\n",
    "    - Masson Matthieu\n",
    "    - Michelon Paul\n",
    "\n"
   ]
  },
  {
   "cell_type": "markdown",
   "metadata": {
    "colab_type": "text",
    "id": "GoJ5Y8SZsoAM"
   },
   "source": [
    "## Biking in Montreal\n",
    "Approximately 10 million tourists visit Montreal every year. Concerned in providing the best experience during their stay, the tourism department of the city has initialized the development of a new application to help the visitors meet the main touristic attractions of the city in the shortest amount of time. They discovered that, when visiting the city’s attractions, the preferred mean of transportation adopted by the tourists is the bicycle. However, since the tourists do not know the city very well, they usually struggle to create their route in order to visit the planned sights for the day. Thus, given a list of places that the tourist wants to visit, including a starting and ending location, the new application determines the itinerary that passes only once in all attractions defined by the user such that the time spent within his/her route is minimum. \n",
    "\n",
    "<img src=\"images/montreal.png\" alt=\"\" width=\"800\"/>\n",
    "\n",
    "Our job in this TP is to develop this new application. To this end, we will address the problem using three different research methods:\n",
    "1. The first methodology works by defining and exploring a search tree in order to find the route with minimum time\n",
    "2. Next, an A* algorithm will be designed to search the optimal route in this search tree more efficiently \n",
    "3. Last, a heuristic procedure will be created using the Variable Neighborhood Search (VNS) metaheuristic to optimize the problem\n",
    "\n",
    "## Problem representation\n",
    "\n",
    "We can represent our problem using a directed and complete graph, $G(V, A)$, where each city attraction is represented by a vertex in the set of vertices $V$, and $A$ is the set of arcs representing the bicycle path between two attractions. Each arc $a_{ij} \\in A$ has a cost $ w(a_{ij}) $ associated with the time spent on the path from attraction $i$ to attraction $j$. However, it is worth mentioning that the times are not symmetric, hence, is **not** guaranteed that $w(a_{ij}) = w(a_{ji})$. \n",
    "\n",
    "The user of the tool informs the list of $m$ attractions that he/she wishes to visit, $P = \\{p_1,...,p_m\\} $, where $p_1$ and $p_m$ are the starting and ending attractions, respectively.\n",
    "\n",
    "## 1. Defining and exploring a search tree\n",
    "\n",
    "Let us define a search tree, $\\mathcal{T}$, where each node of this tree represents a solution $S$ that is being built. Moreover, let $V(S) \\subseteq V$ be the set of vertices already **visited** and $A(S) \\subset A$ the set of arcs already **selected**. Thus, the cost of $S$ is given by\n",
    "\n",
    "$$g(S) = \\sum_{a \\in A(S)} w(a)$$\n",
    "\n",
    "The root node of the search tree $\\mathcal{T}$ is a solution $S_{root}$ containing only the starting vertex marked as visited, i.e., $V(S_{root})=\\{p_1\\}$ and $A(S_{root}) = \\emptyset$.\n",
    "\n",
    "<img src=\"images/tree1.png\" alt=\"\" width=\"100\"/>\n",
    "\n",
    "Then, children nodes are created by adding an arc from $p_1$ to every vertex $ v \\in P\\backslash V(S_{root})$. However, an arc to the ending attraction can only be added if $p_m$ is the only vertex not visited yet. We denote the new visited vertex as $c$, the current vertex of the solution, i.e., $V(S) \\gets V(S) \\cup \\{c\\}$. \n",
    "\n",
    "<img src=\"images/tree2.png\" alt=\"\" width=\"400\"/>\n",
    "\n",
    "Next, each child node similarly generates its children. For a given child solution $S$ with last added vertex $c$, we add an arc $(c, v)$ to every vertex $v \\in P\\backslash V(S)$. The constraint to add vertex $p_m$ to the solution is kept during the entire process.\n",
    "\n",
    "<img src=\"images/tree3.png\" alt=\"\" width=\"600\"/>\n",
    "\n",
    "The leaf nodes are complete solutions, i.e., $V(S) = P$, with $p_m$ being the last attraction added to the itinerary.  \n",
    "\n",
    "### 1.1 Time to code\n",
    "\n",
    "The code cell below is provided to you with a function to read the graph representing the attractions of Montreal. The function $\\mathtt{read\\_graph}$ returns a numpy array object $|V|\\times |V|$ where the entry $\\mathtt{graph[i,j]}$ contains the time spent biking from attraction $i$ to attraction $j$.\n",
    "\n"
   ]
  },
  {
   "cell_type": "code",
   "execution_count": 1,
   "metadata": {},
   "outputs": [],
   "source": [
    "import numpy as np\n",
    "\n",
    "def read_graph():\n",
    "    return np.loadtxt(\"montreal\", dtype='i', delimiter=',')\n",
    "\n",
    "graph = read_graph()"
   ]
  },
  {
   "cell_type": "markdown",
   "metadata": {},
   "source": [
    "Our first implementation task is to code the class that represents a solution. The code of class Solution below has a constructor (already implemented) that receives the list of $\\mathtt{places}$ representing the set of attractions $P$ and the graph $G$, and creates a blank solution by initializing the following variables:\n",
    "\n",
    "- $\\mathtt{g}$: stores the cost of the solution\n",
    "- $\\mathtt{c}$: indicate the index of the current (last added) vertex of the solution\n",
    "- $\\mathtt{V}$: a list representing $V(S)$\n",
    "- $\\mathtt{unvisited}$: a list representing $P\\backslash V(S)$\n",
    "\n",
    "Alongside the constructor, there is the method $\\mathtt{add}$ which is responsible for adding an arc into the solution. This method receives the index from the $\\mathtt{unvisited}$ list indicating the attraction that will be added. This method also updates the $\\mathtt{V}$ and $\\mathtt{unvisited}$ lists, as well the cost of the solution and vertex $c$.\n",
    "\n",
    "Now, implement the method $\\mathtt{add}$ below."
   ]
  },
  {
   "cell_type": "code",
   "execution_count": 2,
   "metadata": {},
   "outputs": [],
   "source": [
    "import copy\n",
    "\n",
    "class Solution:\n",
    "    def __init__(self, places, graph):\n",
    "        \"\"\"\n",
    "        places: a list containing the indices of attractions to visit\n",
    "        p1 = places[0]\n",
    "        pm = places[-1]\n",
    "        \"\"\"\n",
    "        self.h = 0  #heuristic\n",
    "        self.g = 0  # cost\n",
    "        self.f = 0\n",
    "        self.graph = graph\n",
    "        self.visited = [places[0]]  # list of already visited attractions\n",
    "        self.not_visited = copy.deepcopy(places[1:])  # list of attractions not yet visited\n",
    "\n",
    "    def add(self, idx):\n",
    "        \"\"\"\n",
    "        Adds the point in position idx of not_visited list to the solution\n",
    "        \"\"\"\n",
    "        self.visited.append(idx)\n",
    "        self.not_visited.remove(idx)\n",
    "        self.g = self.g + graph[self.visited[-2], idx]\n",
    "\n",
    "    def __lt__(self, other):\n",
    "        return self.f < other.f"
   ]
  },
  {
   "cell_type": "markdown",
   "metadata": {},
   "source": [
    "Our next step is to implement a research method to find the best solution in the search tree. A simple strategy to this end would be a [Breadth-first search](https://moodle.polymtl.ca/pluginfile.php/444662/mod_resource/content/1/recherche_en_largeur.mp4) (BFS), which explores the nodes in the sequence as they are scanned using a queue data structure. \n",
    "\n",
    "Now, implement the $\\mathtt{bfs}$ method below that receives the graph and the list of attractions and returns the solution with minimum cost.  "
   ]
  },
  {
   "cell_type": "code",
   "execution_count": 19,
   "metadata": {},
   "outputs": [],
   "source": [
    "from queue import Queue\n",
    "\n",
    "def bfs(graph, places):\n",
    "    \"\"\"\n",
    "        The BFS Algorithm works as follow:\n",
    "            Step 1- We use a queue 'queue' to store our objects;\n",
    "            Step 2- We take the last element of the queue 'current_node' while the queue is full :\n",
    "                    2-a: if the its visited's last element is the goal => complete solution\n",
    "                         We update the solution by adding the goal to its path and compare it to the other complete paths\n",
    "                         if it has a smaller cost than the other complete solutions we update it in: Optimal_solution\n",
    "                    2-b: ELSE visit all current_node'neighbours (not_visited) and update their paths and cost before putting \n",
    "                         them back to the queue\n",
    "            STEP3- return the Solution with minimal cost\n",
    "            \n",
    "    \"\"\"\n",
    "    S_root = Solution(places,graph)\n",
    "    # STEP 1\n",
    "    queue = Queue()\n",
    "    goal = places[-1]\n",
    "    best_time = 1000000 # First cost\n",
    "    queue.put(S_root)\n",
    "    explore = 0\n",
    "    while queue.full():\n",
    "        # STEP 2\n",
    "        current_node = queue.get()\n",
    "        explore += 1\n",
    "        # STEP 2-a\n",
    "        if current_node.not_visited == [goal]:\n",
    "                current_node.add(goal)\n",
    "                if (current_node.g < best_time):\n",
    "                    best_time = copy.deepcopy(current_node.g)\n",
    "                    OptimalSolution = copy.deepcopy(current_node)\n",
    "        # STEP 2-b\n",
    "        else:\n",
    "            for i in current_node.not_visited[:-1]:\n",
    "                Temp=copy.deepcopy(current_node)\n",
    "                Temp.add(i)\n",
    "                queue.put(Temp)\n",
    "    # STEP 3\n",
    "    print(\"Number of nodes explored: %s\" %(explore))            \n",
    "    return OptimalSolution"
   ]
  },
  {
   "cell_type": "markdown",
   "metadata": {},
   "source": [
    "### 1.2 Experiments\n",
    "\n",
    "We propose three illustrative examples to test our search in width. The first example takes into account 7 attractions, the second 10 and the last 11. Since this research lists all possible solutions, the third example may take a considerable time to complete.\n",
    "\n",
    "Implement these experiments and report the number of nodes explored as well as the required computing time."
   ]
  },
  {
   "cell_type": "code",
   "execution_count": 30,
   "metadata": {
    "colab": {},
    "colab_type": "code",
    "id": "H1lFkJPJBcR3"
   },
   "outputs": [
    {
     "name": "stdout",
     "output_type": "stream",
     "text": [
      "Number of nodes explored: 326\n",
      "27\n",
      "--- 0.031928300857543945 seconds ---\n"
     ]
    }
   ],
   "source": [
    "import time \n",
    "\n",
    "#test 1  --------------  OPT. SOL. = 27\n",
    "start_time = time.time()\n",
    "places=[0, 5, 13, 16, 6, 9, 4]\n",
    "sol = bfs(graph=graph, places=places)\n",
    "print(sol.g)\n",
    "print(\"--- %s seconds ---\" % (time.time() - start_time))"
   ]
  },
  {
   "cell_type": "code",
   "execution_count": 31,
   "metadata": {
    "colab": {},
    "colab_type": "code",
    "id": "Yn9mUPhBB9hv"
   },
   "outputs": [
    {
     "name": "stdout",
     "output_type": "stream",
     "text": [
      "Number of nodes explored: 109601\n",
      "30\n",
      "--- 28.89189577102661 seconds ---\n"
     ]
    }
   ],
   "source": [
    "#test 2 -------------- OPT. SOL. = 30\n",
    "start_time = time.time()\n",
    "places=[0, 1, 4, 9, 20, 18, 16, 5, 13, 19]\n",
    "sol = bfs(graph=graph, places=places)\n",
    "print(sol.g)\n",
    "print(\"--- %s seconds ---\" % (time.time() - start_time))"
   ]
  },
  {
   "cell_type": "code",
   "execution_count": 22,
   "metadata": {},
   "outputs": [
    {
     "name": "stdout",
     "output_type": "stream",
     "text": [
      "Number of nodes explored: 500055\n",
      "26\n",
      "--- 1030.7141654491425 seconds ---\n"
     ]
    }
   ],
   "source": [
    "#test 3 -------------- OPT. SOL. = 26\n",
    "start_time = time.time()\n",
    "places=[0, 2, 7, 13, 11, 16, 15, 7, 9, 8, 4]\n",
    "sol = bfs(graph=graph, places=places)\n",
    "print(sol.g)\n",
    "print(\"--- %s seconds ---\" % (time.time() - start_time))"
   ]
  },
  {
   "cell_type": "markdown",
   "metadata": {},
   "source": [
    "## 2. Solving with an A* algorithm\n",
    "\n",
    "For our second research method, instead of enumerating all solutions, we intend to guide the search by evaluating the potential of each node of the search tree, prioritizing the solutions with lower estimate costs. To this purpose, each solution $S$ is evaluated by the heuristic function $f(S) = g(S) + h(S) $ that takes into consideration both the current cost of $S$, $g(S)$, and an estimate of the cost (lower bound), $h(S)$, to visit the ending attraction $p_m$ from $S$.\n",
    "\n",
    "For a given solution $S$, with $ c $ being the last added vertex to $V(S)$, the function $h$ could be defined as:\n",
    "\n",
    "$$h(S) = \\text{the shortest path from } c \\text{ to } p_m \\text{ in the graph } G_S  \\text{ induced by the set of vertices } P\\backslash V(S) \\cup \\{c\\} $$\n",
    "\n",
    "In other words, $h(s)$ is a lower bound to the time required to the tourist to arrive at the last attraction, $p_m$, from the current attraction, $c$, passing only through attractions of $P$ still not visited.\n",
    "\n",
    "\n",
    "Hence, we can design our A* algorithm dividing it into the following steps:\n",
    "\n",
    "1. As prevously done, the search tree $\\mathcal{T}$ is initialized with a root solution $S_{root}$ that contains only the starting point, i.e., $V(S_{root}) = p_1, A(S_{root}) = \\emptyset $ and $ c = p_1 $.  The cost of this initial solution is $ g(S_{root}) = 0 $. The estimative for this root solution is not important and can be discarded ($h(S_{root}) = 0 $).\n",
    "\n",
    "2. Select the solution $S_b$ of  $\\mathcal{T}$ that minimizes the heuristic function $f$:\n",
    "$$ f(S_b) \\leq f(S) \\quad \\forall S \\in \\mathcal{T} \\qquad S_B, S \\text{ are nodes of } \\mathcal{T} \\text{ not yet selected}$$\n",
    "Note that, at the first iteration, only the $S_{root}$ is present in $\\mathcal{T}$ and, thus, it will be selected. If $S_b$ is complete, then the optimal solution of the problem is found, and the algorithm ends. Otherwise, the algorithm proceeds normally to step 3.\n",
    "\n",
    "3. Let $c$ be the last visited vertex in $S_b$. For each vertex $ v \\in P\\backslash V(S_b) $, perform the following tasks:\n",
    "  - Create a new solution $S_n$ by adding the arc $ (c, v) $ to the solution\n",
    "  - Update the sets $V(S_n)$ and $A(S_n)$;\n",
    "  - Compute $g(S_n)$ and $h(S_n)$;\n",
    "  - Insert $S_n$ as a new child node in $\\mathcal{T}$\n",
    "  \n",
    "  The vertex $v = p_m$ can be only added to a new solution if it is the only vertex remaining in the set $ P\\backslash V(S_b)$. \n",
    "\n",
    "4. Repeat steps 2 and 3 until the selected solution $S_b$ is **complete**, i.e., $V(S_B) = P$.\n",
    "\n",
    "### 2.1 Time to code\n",
    "\n",
    "Our first implementation task is to increment the code of the class Solution. As we shall see later, a priority queue (heap) is going to be used to implement the search tree T, instead of an ordinary queue previously used. Then, we must prepare the class Solution with a method able to compare two solutions. This is done with the method $\\_\\_\\mathtt{lt}\\_\\_\\mathtt{(self, other)}$ which must return true if $f(self) < f(other)$.\n",
    "\n",
    "Now, implement the function $\\_\\_\\mathtt{lt}\\_\\_\\mathtt{(self, other)}$ in the class Solution.\n",
    "\n",
    "Following that, the next step is to implement the estimation function. To compute the fastest path between two vertices of a graph we can use the [Dijkstra algorithm](https://en.wikipedia.org/wiki/Dijkstra%27s_algorithm) where the source node is the last added vertex, $c$. The Dijkstra algorithm can be adapted to finish as soon as the fastest path to vertex $p_m$ is found.\n",
    "\n",
    "**Implementation guidelines**:\n",
    "  - Apply the Dijkstra algorithm to find the fastest path from $c$ to $p_m$.\n",
    "  - Return the time spent in the path found."
   ]
  },
  {
   "cell_type": "code",
   "execution_count": 7,
   "metadata": {
    "colab": {},
    "colab_type": "code",
    "id": "PxRTHhZmNEOB"
   },
   "outputs": [],
   "source": [
    "import heapq\n",
    "\n",
    "def fastest_path_estimation(sol):\n",
    "    \"\"\"\n",
    "    The Djikstra algorithm works as follow:\n",
    "        Step 1: Add in a heapq 'queue', the start point c and all the places to visit using the turple: (cost,node)\n",
    "                We initiate the nodes' cost with a infinity or a big value, in our case 1000.\n",
    "                queue = [(0,c),(1000p1),(1000, p2)...(1000,pm)]\n",
    "        Step 2: Pop the last element of the list 'queue', the one with the smallest cost: current_node\n",
    "                  2-a IF the element popped is the destination point \n",
    "                        return its cost, this means that we found the shortest path from c to pm (It doesn't need to \n",
    "                        visit all the places)\n",
    "                  2-b ELSE visit all element of queue (actual_node) and compare their actual cost to current node'cost the + the cost\n",
    "                           from current node to the actual node, we take the min of them.\n",
    "                           To do this we used a heapq Temp as a transition queue\n",
    "                        \n",
    "    \"\"\"\n",
    "    SOL=copy.deepcopy(sol)\n",
    "    c = SOL.visited[-1]\n",
    "    pm = SOL.not_visited[-1]\n",
    "    voisins = SOL.not_visited\n",
    "    ####################################\n",
    "    # STEP 1\n",
    "    queue = []\n",
    "    heapq.heapify(queue)\n",
    "    heapq.heappush(queue, (0,c))\n",
    "    for i in voisins:\n",
    "        heapq.heappush(queue,(1000,i))\n",
    "    ####################################\n",
    "    Temp =[]\n",
    "    heapq.heapify(Temp)\n",
    "    while queue:\n",
    "    ####################################\n",
    "    # STEP 2\n",
    "        current_node = heapq.heappop(queue)\n",
    "    #STEP 2-a\n",
    "        if  current_node[1]==pm:\n",
    "            return current_node[0]\n",
    "    #STEP 2-b\n",
    "        while queue:\n",
    "            actual_element=heapq.heappop(queue)\n",
    "            heapq.heappush(Temp,(min(current_node[0]+graph[current_node[1],actual_element[1]],actual_element[0]),actual_element[1]))\n",
    "        while Temp:\n",
    "            heapq.heappush(queue,heapq.heappop(Temp))"
   ]
  },
  {
   "cell_type": "markdown",
   "metadata": {
    "colab_type": "text",
    "id": "9pjLMOpju-a9"
   },
   "source": [
    "Finally, we must implement the A* function that creates the solution tree and performs the search. To implement the search, we will use a priority queue data structure (heap) to automatically select the solution $S_b$ from $\\mathcal{T}$.\n",
    "\n",
    "**Implementation guidelines**:\n",
    "  - While a complete solution is not selected from the search tree $\\mathcal{T}$ do:\n",
    "      - Selected the top solution of the heap.\n",
    "      - Perform step 3 described above\n",
    "  - Return the optimal solution obtained."
   ]
  },
  {
   "cell_type": "code",
   "execution_count": 8,
   "metadata": {
    "colab": {},
    "colab_type": "code",
    "id": "D6e45uNMvanU"
   },
   "outputs": [],
   "source": [
    "def A_star(graph, places):\n",
    "    \"\"\"\n",
    "    The A* algorithm works as follow:\n",
    "        STEP a: It pops the last element of the heapq 'T' in an Object called \"current_node\", then:\n",
    "            a-1: IF the current_node has an empty 'visited' => it means all the solution is complete and the most optimal\n",
    "            a-2: IF the current_nodehas completed its path we add the goal to the solution anf pop it to the heapq T\n",
    "            a-3: ELSE the solution isn't complete, we add the non-visited places to the solutions and calculate their \n",
    "                    respective heuristic and cost and push them to the heapq that will sort its element depending on \n",
    "                    the value of f = g + h\n",
    "    \"\"\"\n",
    "    # blank solution\n",
    "    root = Solution(graph=graph, places=places)\n",
    "    # search tree T\n",
    "    T = []\n",
    "    heapq.heapify(T)\n",
    "    heapq.heappush(T, root)\n",
    "    goal = places[-1]\n",
    "    explore=0\n",
    "    while T:\n",
    "    # STEP a\n",
    "        current_node = heapq.heappop(T)\n",
    "        explore += 1\n",
    "    #Step a-1\n",
    "        if len(current_node.not_visited) == 0:\n",
    "            print(\"Number of nodes explored: %s\" % (explore))\n",
    "            return current_node\n",
    "    #Step a-2\n",
    "        if current_node.not_visited == [goal]:\n",
    "            current_node.add(goal)\n",
    "            current_node.f = current_node.g\n",
    "            heapq.heappush(T, current_node)\n",
    "    #Step a-3\n",
    "        else:\n",
    "            for i in current_node.not_visited[:-1]: #pour tout i dans les element non visites (restants)\n",
    "                Temp = copy.deepcopy(current_node)\n",
    "                Temp.add(i)\n",
    "                Temp.h = fastest_path_estimation(Temp)\n",
    "                Temp.f = Temp.h + Temp.g\n",
    "                heapq.heappush(T, Temp) #ajout a  la liste et ordonnner"
   ]
  },
  {
   "cell_type": "markdown",
   "metadata": {
    "colab_type": "text",
    "id": "T2NhBa4GsoAP"
   },
   "source": [
    "### 2.2 Experiments\n",
    "\n",
    "To test our A* algorithm, a fourth experiment with 15 attractions was included in the set of experiments. Once again, for each test, report the time of execution and the number of nodes explored in the search. "
   ]
  },
  {
   "cell_type": "code",
   "execution_count": 28,
   "metadata": {
    "colab": {},
    "colab_type": "code",
    "id": "H1lFkJPJBcR3"
   },
   "outputs": [
    {
     "name": "stdout",
     "output_type": "stream",
     "text": [
      "Number of nodes explored: 58\n",
      "27\n",
      "[0, 5, 13, 16, 6, 9, 4]\n",
      "--- 0.019545555114746094 seconds ---\n"
     ]
    }
   ],
   "source": [
    "#test 1  --------------  OPT. SOL. = 27\n",
    "start_time = time.time()\n",
    "places=[0, 5, 13, 16, 6, 9, 4]\n",
    "astar_sol = A_star(graph=graph, places=places)\n",
    "print(astar_sol.g)\n",
    "print(astar_sol.visited)\n",
    "print(\"--- %s seconds ---\" % (time.time() - start_time))"
   ]
  },
  {
   "cell_type": "code",
   "execution_count": 27,
   "metadata": {
    "colab": {},
    "colab_type": "code",
    "id": "Yn9mUPhBB9hv"
   },
   "outputs": [
    {
     "name": "stdout",
     "output_type": "stream",
     "text": [
      "Number of nodes explored: 360\n",
      "30\n",
      "[0, 1, 4, 5, 9, 13, 16, 18, 20, 19]\n",
      "--- 0.1441335678100586 seconds ---\n"
     ]
    }
   ],
   "source": [
    "#test 2  --------------  OPT. SOL. = 30\n",
    "start_time = time.time()\n",
    "places=[0, 1, 4, 9, 20, 18, 16, 5, 13, 19]\n",
    "astar_sol = A_star(graph=graph, places=places)\n",
    "print(astar_sol.g)\n",
    "print(astar_sol.visited)\n",
    "print(\"--- %s seconds ---\" % (time.time() - start_time))"
   ]
  },
  {
   "cell_type": "code",
   "execution_count": 26,
   "metadata": {
    "colab": {},
    "colab_type": "code",
    "id": "ZX5SD5CRBfKg"
   },
   "outputs": [
    {
     "name": "stdout",
     "output_type": "stream",
     "text": [
      "Number of nodes explored: 915\n",
      "26\n",
      "[0, 2, 7, 7, 9, 13, 15, 16, 11, 8, 4]\n",
      "--- 0.3845224380493164 seconds ---\n"
     ]
    }
   ],
   "source": [
    "#test 3  --------------  OPT. SOL. = 26\n",
    "start_time = time.time()\n",
    "places=[0, 2, 7, 13, 11, 16, 15, 7, 9, 8, 4]\n",
    "astar_sol = A_star(graph=graph, places=places)\n",
    "print(astar_sol.g)\n",
    "print(astar_sol.visited)\n",
    "print(\"--- %s seconds ---\" % (time.time() - start_time))"
   ]
  },
  {
   "cell_type": "code",
   "execution_count": 25,
   "metadata": {},
   "outputs": [
    {
     "name": "stdout",
     "output_type": "stream",
     "text": [
      "Number of nodes explored: 108401\n",
      "40\n",
      "[0, 3, 5, 13, 15, 18, 20, 16, 11, 12, 14, 9, 4, 2, 1]\n",
      "--- 78.01531720161438 seconds ---\n"
     ]
    }
   ],
   "source": [
    "#test 4  --------------  OPT. SOL. = 40\n",
    "start_time = time.time()\n",
    "places=[0, 2, 20, 3, 18, 12, 13, 5, 11, 16, 15, 4, 9, 14, 1]\n",
    "astar_sol = A_star(graph=graph, places=places)\n",
    "print(astar_sol.g)\n",
    "print(astar_sol.visited)\n",
    "print(\"--- %s seconds ---\" % (time.time() - start_time))"
   ]
  },
  {
   "cell_type": "markdown",
   "metadata": {},
   "source": [
    "### 2.3 A tighter lower bound - BONUS?\n",
    "\n",
    "While the estimated cost of the fastest path helped the $A*$ algorithm to solve problems with a larger number of attractions, this lower bound does not takes into consideration the cost of visiting the other vertices in $P\\backslash V(S)$. A better estimation for our problem can be given by the **spanning arborescence of minimum weight** (this is the minimum spanning tree version for directed graphs) for the graph $G_S$ induced by the set of vertices $P\\backslash V(S) \\cup \\{c\\} $. This problem seeks to create a tree rooted in a defined vertex, $r$, that visits all vertices of the graph with minimum cost.\n",
    "\n",
    "For our problem, one could define the root vertex as the current vertex of the solution, $r = c$, and compute the sum of costs required to reach the vertices $P\\backslash V(S)$. A classical procedure to solve this problem is the [Edmonds's algorithm](https://en.wikipedia.org/wiki/Edmonds%27_algorithm). Our task now is to implement this algorithm and use it as a new estimation cost, $h(S)$. After that, re-run the experiments in Section 2.2 and report the gains, concerning both the execution times and the number of explored nodes.\n",
    "\n",
    "\n"
   ]
  },
  {
   "cell_type": "code",
   "execution_count": null,
   "metadata": {},
   "outputs": [],
   "source": [
    "def minimum_spanning_arborescence(sol):\n",
    "    \"\"\"\n",
    "    Returns the cost to reach the vertices in the unvisited list \n",
    "    \"\"\"\n",
    "    SOL= copy.deepcopy(sol)\n",
    "    root=SOL.visited[-1]\n",
    "    "
   ]
  },
  {
   "cell_type": "markdown",
   "metadata": {
    "colab_type": "text",
    "id": "r9oJnFHbxrvj"
   },
   "source": [
    "## 2. Optimizing with a VNS heuristic\n",
    "\n",
    "This time, instead of building a solution from scratch by gradually adding arcs to the solution,  our [Variable Neighborhood Search](https://en.wikipedia.org/wiki/Variable_neighborhood_search) (VNS) method will start from a complete initial solution and performs successively swaps on the order in which the attractions are visited to improve the cost of the solution. \n",
    "\n",
    "<img src=\"images/vns.png\" alt=\"\" width=\"800\"/>\n",
    "\n",
    "### 2.1 Time to code\n",
    "\n",
    "Our first implementation task is to construct an initial solution to work with during the search. This solution must be complete, i.e., we must create an ordered set of visited vertex $V(S)$ such that it starts in $p_1$ and finishes in $p_m$. A simple approach to this end is to use a [Depth-First Seach (DFS)](https://moodle.polymtl.ca/pluginfile.php/445484/mod_resource/content/1/recherche_en_profondeur.mp4). The starting point is the vertex representing $p_1$ and, as soon as the ending point is reached after visiting all the others attractions of $P$, the path can be turned into an initial solution. To help in diversifying the search, the method to generate an initial solution can be randomized such that the VNS algorithm can start the search in different regions of the solution space. Thus, in the DFS function, the selection of the child to continue the search must be random.\n",
    "\n",
    "Now. implement the **initial_sol** method to construct a random initial solution and uses the **dfs** function to find a path from $p_1$ to $p_m$.\n",
    "\n",
    "\n",
    "\n",
    "**Implementation guidelines**:\n",
    "  - Call the dfs function to find a complete path from  $p_1$ to $p_m$.\n",
    "  - Create a root solution\n",
    "  - Adjust the solution cost and the set V with the path found\n",
    "  - Return the solution created\n",
    "\n"
   ]
  },
  {
   "cell_type": "code",
   "execution_count": null,
   "metadata": {
    "colab": {},
    "colab_type": "code",
    "id": "JKx9Z-ayxzSw"
   },
   "outputs": [],
   "source": [
    "from random import shuffle, randint\n",
    "\n",
    "def initial_sol(graph, places):\n",
    "    \"\"\"\n",
    "    Return a completed initial solution\n",
    "    \"\"\"\n",
    "\n",
    "def dfs(...):\n",
    "    \"\"\"\n",
    "    Performs a Depth-First Search\n",
    "    \"\"\""
   ]
  },
  {
   "cell_type": "markdown",
   "metadata": {
    "colab_type": "text",
    "id": "JnTFBFqvXpNz"
   },
   "source": [
    "A key feature of the VNS metaheuristic is the ability to define $k_{max}$ neighborhoods to diversify the search and escape from local optima. For our problem, a simple and efficient neighborhood structure could be neighborhoods based on **swapping** the order in which two points are visited within the route. Thus, given a solution $S$, with $V(S)$ being the ordered set in which the points were visited, a solution on the $k$-th neighborhood of $S$ can be obtained by selecting $k$ *random* pairs of vertices, different from $p_1$ and $p_m$, and swap their position in $V(S)$.\n",
    "\n",
    "In the VNS framework, the procedure of generating a solution on the $k$-th neighborhood of $S$ is known as the **shaking** step. Thus, our task now is to implement this shaking method that receives a solution, the neighborhood index $k$ and the graph $G$ and returns a new solution on the $k$-th neighborhood of $S$. \n",
    "\n",
    "However, before implementing the shaking method below, we must first return to the implementation of class Solution and finish the **swap** method. This method is responsible for updating the position of the vertices being swapped in the $V(S)$ set and, consequentily, the solution cost. It receives the indices of the two selected vertices of $V(S)$ and the graph $G$.\n",
    "\n",
    "\n",
    "**Implementation guidelines (shaking)**:\n",
    "  - Select two indices, $i$ and $j$, such that $i \\neq j$ and $i, j \\in \\{2...m-1\\}$\n",
    "  - Make a copy of the $sol$ and perfom the swap\n",
    "  - Return the created solution"
   ]
  },
  {
   "cell_type": "code",
   "execution_count": null,
   "metadata": {
    "colab": {},
    "colab_type": "code",
    "id": "EWLAhZUlfFOZ"
   },
   "outputs": [],
   "source": [
    "def shaking(sol, k):\n",
    "    \"\"\"\n",
    "    Returns a solution on the k-th neighrboohood of sol\n",
    "    \"\"\""
   ]
  },
  {
   "cell_type": "markdown",
   "metadata": {
    "colab_type": "text",
    "id": "PD_PxV54sl1o"
   },
   "source": [
    "Another essential step in the VNS algorithm is to invoke a local search routine to improve the solution cost. For our problem, an efficient local search procedure would be to search for a pair of vertices, $i$ and $j$, such that their swapping position in $V(S)$ leads it to a reduction in the solution cost. This local search is known as 2-opt, and we are going to implement in this TP. \n",
    "\n",
    "Formally, consider a solution $S$ and the ordered set of vertices $V(S)$. For a vertex $i$, let $i'$ be the immediate successor of $i$ in the sequence $V(S)$. The 2-opt algorithm work as follows: for every  pair of non-consecutive vertices $i,j$, check if by swapping the position of vertices $i'$ and $j$ results in a improvement in the solution cost. If so, perform this swap. This process is repeated until there are no more profitable exchanges. The 2-opt heuristic is illustrated in the figure below. \n",
    "\n",
    "\n",
    "<img src=\"images/2opt.png\" alt=\"\" width=\"800\"/>\n",
    "\n",
    "<img src=\"images/2opt2.png\" alt=\"\" width=\"800\"/>\n",
    "\n",
    "\n",
    "\n",
    "Now implement the **local_search_2opt** fuction below. \n",
    "\n",
    "\n",
    "\n",
    "**Implementation guidelines**:\n",
    "  - Check every pair of indices, $i = \\{2,..,m-3\\}$ and $j = \\{i+2, m-1\\}$ for a improvement in the solution cost\n",
    "  - If the exchange is profitable, perform it\n",
    "  - Repeat the process until no more profitable swap can be found"
   ]
  },
  {
   "cell_type": "code",
   "execution_count": null,
   "metadata": {
    "colab": {},
    "colab_type": "code",
    "id": "_97d-BQV8tzt"
   },
   "outputs": [],
   "source": [
    "def local_search_2opt(sol):\n",
    "    \"\"\"\n",
    "    Apply 2-opt local search over sol\n",
    "    \"\"\"\n",
    "\n"
   ]
  },
  {
   "cell_type": "markdown",
   "metadata": {
    "colab_type": "text",
    "id": "ZPG90m1g_HgA"
   },
   "source": [
    "Finally, our last implementation step is to code the VNS algorithm itself. The method receives an initial solution  and returns the best solution found during the search. Alongside the solution and the graph, the method also receives two other parameters: $k_{max} $, which defines the number of neighborhoods; and $t_{max}$, which sets the time limit to run the heuristic.\n",
    "\n",
    "\n",
    "**Implementation guidelines**:\n",
    "  - At each iteration of the VNS, generate a solution on the k-th neighrborhood of the current best solution and apply a local search on it.\n",
    "  - If the new solution has a better cost than the current best solution, update the best solution with the new found solution. \n",
    "  - Repeat the process until the time limit is met"
   ]
  },
  {
   "cell_type": "code",
   "execution_count": null,
   "metadata": {
    "colab": {},
    "colab_type": "code",
    "id": "ZQwCN2HB_m-q"
   },
   "outputs": [],
   "source": [
    "def vns(sol, k_max, t_max):\n",
    "    \"\"\"\n",
    "    Performs the VNS algorithm\n",
    "    \"\"\""
   ]
  },
  {
   "cell_type": "markdown",
   "metadata": {
    "colab_type": "text",
    "id": "z5TPMN2XCkPc"
   },
   "source": [
    "### 2.2 Experiments\n",
    "\n",
    "Run the VNS on the following illustrative examples and report the obtained solutions:"
   ]
  },
  {
   "cell_type": "code",
   "execution_count": null,
   "metadata": {
    "colab": {},
    "colab_type": "code",
    "id": "Ox0PScj5CTzq"
   },
   "outputs": [],
   "source": [
    "# test 1  --------------  OPT. SOL. = 27\n",
    "places=[0, 5, 13, 16, 6, 9, 4]\n",
    "sol = initial_sol(graph=graph, places=places)\n",
    "start_time = time.time()\n",
    "vns_sol = vns(sol=sol, k_max=10, t_max=1)\n",
    "print(vns_sol.g)\n",
    "print(vns_sol.visited)\n",
    "print(\"--- %s seconds ---\" % (time.time() - start_time))"
   ]
  },
  {
   "cell_type": "code",
   "execution_count": null,
   "metadata": {
    "colab": {},
    "colab_type": "code",
    "id": "a5IB2FbqCTz3"
   },
   "outputs": [],
   "source": [
    "#test 2  --------------  OPT. SOL. = 30\n",
    "places=[0, 1, 4, 9, 20, 18, 16, 5, 13, 19]\n",
    "sol = initial_sol(graph=graph, places=places)\n",
    "\n",
    "start_time = time.time()\n",
    "vns_sol = vns(sol=sol, k_max=10, t_max=1)\n",
    "print(vns_sol.g)\n",
    "print(vns_sol.visited)\n",
    "\n",
    "print(\"--- %s seconds ---\" % (time.time() - start_time))"
   ]
  },
  {
   "cell_type": "code",
   "execution_count": null,
   "metadata": {
    "colab": {},
    "colab_type": "code",
    "id": "nkNwTmxPCTz9"
   },
   "outputs": [],
   "source": [
    "# test 3  --------------  OPT. SOL. = 26\n",
    "places=[0, 2, 7, 13, 11, 16, 15, 7, 9, 8, 4]\n",
    "sol = initial_sol(graph=graph, places=places)\n",
    "\n",
    "start_time = time.time()\n",
    "vns_sol = vns(sol=sol, k_max=10, t_max=1)\n",
    "print(vns_sol.g)\n",
    "print(vns_sol.visited)\n",
    "print(\"--- %s seconds ---\" % (time.time() - start_time))"
   ]
  },
  {
   "cell_type": "code",
   "execution_count": null,
   "metadata": {},
   "outputs": [],
   "source": [
    "# test 4  --------------  OPT. SOL. = 40\n",
    "places=[0, 2, 20, 3, 18, 12, 13, 5, 11, 16, 15, 4, 9, 14, 1]\n",
    "sol = initial_sol(graph=graph, places=places)\n",
    "\n",
    "start_time = time.time()\n",
    "vns_sol = vns(sol=sol, k_max=10, t_max=1)\n",
    "print(vns_sol.g)\n",
    "print(vns_sol.visited)\n",
    "print(\"--- %s seconds ---\" % (time.time() - start_time))"
   ]
  },
  {
   "cell_type": "markdown",
   "metadata": {},
   "source": [
    "## 4. BONUS SECTION (1 point)\n",
    "\n",
    "Explain in which situation each of the developed algorithms is more appropriate (hint: take into consideration the scalability of the problem)"
   ]
  },
  {
   "cell_type": "markdown",
   "metadata": {},
   "source": [
    "1- BFS Algorithm is suitable for finding the smallest number of steps it takes to get to any given node from the source in an unweighted graph. Also we can use BFS if we know that our goal is somehow near to the root node, in other word it depends on the depth of our Tree. BFS algorithm is good for small tests like test 1.\n",
    "\n",
    "2- The A* algorithm is a better approach because it uses a heurisitc to better choose the next move and limit the number of node to visite. This algorithm is mainly used in path finding.\n",
    "\n",
    "3-"
   ]
  },
  {
   "cell_type": "code",
   "execution_count": null,
   "metadata": {},
   "outputs": [],
   "source": []
  },
  {
   "cell_type": "code",
   "execution_count": null,
   "metadata": {},
   "outputs": [],
   "source": []
  }
 ],
 "metadata": {
  "colab": {
   "name": "tp1_2018.ipynb",
   "provenance": [],
   "version": "0.3.2"
  },
  "kernelspec": {
   "display_name": "Python 3",
   "language": "python",
   "name": "python3"
  },
  "language_info": {
   "codemirror_mode": {
    "name": "ipython",
    "version": 3
   },
   "file_extension": ".py",
   "mimetype": "text/x-python",
   "name": "python",
   "nbconvert_exporter": "python",
   "pygments_lexer": "ipython3",
   "version": "3.6.5"
  }
 },
 "nbformat": 4,
 "nbformat_minor": 1
}
